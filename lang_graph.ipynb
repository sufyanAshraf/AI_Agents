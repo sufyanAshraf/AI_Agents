{
  "nbformat": 4,
  "nbformat_minor": 0,
  "metadata": {
    "colab": {
      "provenance": [],
      "authorship_tag": "ABX9TyNDZzYE6+wtl7xdW0qZ80xp",
      "include_colab_link": true
    },
    "kernelspec": {
      "name": "python3",
      "display_name": "Python 3"
    },
    "language_info": {
      "name": "python"
    }
  },
  "cells": [
    {
      "cell_type": "markdown",
      "metadata": {
        "id": "view-in-github",
        "colab_type": "text"
      },
      "source": [
        "<a href=\"https://colab.research.google.com/github/sufyanAshraf/AI_Agents/blob/main/lang_graph.ipynb\" target=\"_parent\"><img src=\"https://colab.research.google.com/assets/colab-badge.svg\" alt=\"Open In Colab\"/></a>"
      ]
    },
    {
      "cell_type": "code",
      "execution_count": null,
      "metadata": {
        "id": "t_9N3DSUDrXv"
      },
      "outputs": [],
      "source": [
        "import warnings\n",
        "# Suppress all warnings\n",
        "warnings.filterwarnings(\"ignore\")"
      ]
    },
    {
      "cell_type": "code",
      "source": [
        "!pip install langgraph langchain langchain_community langchain_huggingface langchain_groq"
      ],
      "metadata": {
        "collapsed": true,
        "id": "kQ_XQB4-EB7W"
      },
      "execution_count": null,
      "outputs": []
    },
    {
      "cell_type": "code",
      "source": [
        "from typing import Annotated, Literal, Sequence, TypedDict\n",
        "from langchain import hub\n",
        "from langchain_core.messages import BaseMessage, HumanMessage\n",
        "from langchain_core.output_parsers import StrOutputParser\n",
        "from langchain_core.prompts import PromptTemplate\n",
        "from langchain_core.pydantic_v1 import BaseModel, Field\n",
        "from langgraph.graph.message import add_messages\n",
        "from langgraph.prebuilt import tools_condition\n",
        "from langchain_community.document_loaders import WebBaseLoader\n",
        "from langchain_community.vectorstores import Chroma\n",
        "from langchain_text_splitters import RecursiveCharacterTextSplitter\n",
        "from langchain.tools.retriever import create_retriever_tool\n",
        "from langgraph.graph import END, StateGraph, START\n",
        "from langgraph.prebuilt import ToolNode"
      ],
      "metadata": {
        "id": "g9bZuJoHDsIj"
      },
      "execution_count": null,
      "outputs": []
    },
    {
      "cell_type": "code",
      "source": [
        "from google.colab import userdata\n",
        "\n",
        "userdata.get('HF_TOKEN')\n",
        "userdata.get('LANGCHAIN_API_KEY')\n",
        "GROQ_API_KEY = userdata.get('GROQ_API_KEY')\n"
      ],
      "metadata": {
        "id": "kSTcEEPqGBA1"
      },
      "execution_count": null,
      "outputs": []
    },
    {
      "cell_type": "code",
      "source": [
        "from huggingface_hub import login\n",
        "\n",
        "login(\"hf_\") # add key"
      ],
      "metadata": {
        "id": "Opwga1FRHMcM"
      },
      "execution_count": null,
      "outputs": []
    },
    {
      "cell_type": "code",
      "source": [
        "from langchain_huggingface import HuggingFaceEmbeddings"
      ],
      "metadata": {
        "id": "0Jg1B5w6HnRH"
      },
      "execution_count": null,
      "outputs": []
    },
    {
      "cell_type": "code",
      "source": [
        "embeddings = HuggingFaceEmbeddings(model_name=\"all-MiniLM-L6-v2\")"
      ],
      "metadata": {
        "collapsed": true,
        "id": "qkTzwQ7lHuA0"
      },
      "execution_count": null,
      "outputs": []
    },
    {
      "cell_type": "code",
      "source": [
        "from groq import Groq"
      ],
      "metadata": {
        "id": "-tNrllKNJBZC"
      },
      "execution_count": null,
      "outputs": []
    },
    {
      "cell_type": "code",
      "source": [
        "from langchain_groq import ChatGroq\n",
        "llm=ChatGroq(groq_api_key=GROQ_API_KEY,\n",
        "         model_name=\"mixtral-8x7b-32768\")"
      ],
      "metadata": {
        "id": "q6sexDHjFG-V"
      },
      "execution_count": null,
      "outputs": []
    },
    {
      "cell_type": "code",
      "source": [
        "llm.invoke(\"hi hello how are you?\")"
      ],
      "metadata": {
        "colab": {
          "base_uri": "https://localhost:8080/"
        },
        "id": "X8-Vf8xaGRXj",
        "outputId": "acbe8504-0115-4042-d9cd-53ce8409ad9d"
      },
      "execution_count": null,
      "outputs": [
        {
          "output_type": "execute_result",
          "data": {
            "text/plain": [
              "AIMessage(content=\"Hello! I'm just a computer program,What can I help you with today?\", additional_kwargs={}, response_metadata={'token_usage': {'completion_tokens': 19, 'prompt_tokens': 14, 'total_tokens': 33, 'completion_time': 0.028154118, 'prompt_time': 0.00239378, 'queue_time': 0.021775407000000004, 'total_time': 0.030547898}, 'model_name': 'mixtral-8x7b-32768', 'system_fingerprint': 'fp_c5f20b5bb1', 'finish_reason': 'stop', 'logprobs': None}, id='run-1ab11392-60c7-47de-b8f9-2356b3201a61-0', usage_metadata={'input_tokens': 14, 'output_tokens': 19, 'total_tokens': 33})"
            ]
          },
          "metadata": {},
          "execution_count": 11
        }
      ]
    },
    {
      "cell_type": "code",
      "source": [
        "url= \"https://lilianweng.github.io/posts/2023-06-23-agent/\"\n",
        "WebBaseLoader(url).load()"
      ],
      "metadata": {
        "id": "rm8v3pRUKwXf"
      },
      "execution_count": null,
      "outputs": []
    },
    {
      "cell_type": "code",
      "source": [
        "urls = [\n",
        "    \"https://lilianweng.github.io/posts/2023-06-23-agent/\",\n",
        "    \"https://lilianweng.github.io/posts/2023-03-15-prompt-engineering/\",\n",
        "]"
      ],
      "metadata": {
        "id": "87mTsPROK62y"
      },
      "execution_count": null,
      "outputs": []
    },
    {
      "cell_type": "code",
      "source": [
        "docs = [WebBaseLoader(url).load() for url in urls]"
      ],
      "metadata": {
        "id": "Z0bWqcINK-tV"
      },
      "execution_count": null,
      "outputs": []
    },
    {
      "cell_type": "code",
      "source": [
        "docs_list = [item for sublist in docs for item in sublist]"
      ],
      "metadata": {
        "id": "kc3c0vgIK-qd"
      },
      "execution_count": null,
      "outputs": []
    },
    {
      "cell_type": "code",
      "source": [
        "pip install tiktoken"
      ],
      "metadata": {
        "id": "NB-25VC_L_cQ"
      },
      "execution_count": null,
      "outputs": []
    },
    {
      "cell_type": "code",
      "source": [
        "text_splitter=RecursiveCharacterTextSplitter.from_tiktoken_encoder(chunk_size=100, chunk_overlap=5)\n",
        "doc_splits=text_splitter.split_documents(docs_list)\n"
      ],
      "metadata": {
        "id": "cm8r29moK-nN"
      },
      "execution_count": null,
      "outputs": []
    },
    {
      "cell_type": "code",
      "source": [
        "pip install chromadb"
      ],
      "metadata": {
        "collapsed": true,
        "id": "vm9e6oZDMRbg"
      },
      "execution_count": null,
      "outputs": []
    },
    {
      "cell_type": "code",
      "source": [
        "vectorstore=Chroma.from_documents(\n",
        "    documents=doc_splits,\n",
        "    collection_name=\"rag-chrome\",\n",
        "    embedding=embeddings\n",
        "\n",
        ")"
      ],
      "metadata": {
        "id": "xFqJUj9zJdF2"
      },
      "execution_count": null,
      "outputs": []
    },
    {
      "cell_type": "code",
      "source": [
        "retriever=vectorstore.as_retriever()"
      ],
      "metadata": {
        "id": "j47WtLi7MOt1"
      },
      "execution_count": null,
      "outputs": []
    },
    {
      "cell_type": "code",
      "source": [
        "retriever_tool = create_retriever_tool(\n",
        "    retriever,\n",
        "    \"retrieve_blog_posts\",\n",
        "    \"Search and return information about Lilian Weng blog posts on LLM agents, prompt engineering, and adversarial attacks on LLMs.You are a specialized assistant. Use the 'retriever_tool' **only** when the query explicitly relates to LangChain blog data. For all other queries, respond directly without using any tool. For simple queries like 'hi', 'hello', or 'how are you', provide a normal response.\",\n",
        "\n",
        ")"
      ],
      "metadata": {
        "id": "1gIhiIN2NQ8j"
      },
      "execution_count": null,
      "outputs": []
    },
    {
      "cell_type": "code",
      "source": [
        "tools=[retriever_tool]"
      ],
      "metadata": {
        "id": "TnOshmTBNT4P"
      },
      "execution_count": null,
      "outputs": []
    },
    {
      "cell_type": "code",
      "source": [
        "class AgentState(TypedDict):\n",
        "    messages: Annotated[Sequence[BaseMessage], add_messages]"
      ],
      "metadata": {
        "id": "2QkOMz1HTlMJ"
      },
      "execution_count": null,
      "outputs": []
    },
    {
      "cell_type": "code",
      "source": [
        "def ai_assistant(state:AgentState):\n",
        "    print(\"---CALL AGENT---\")\n",
        "    messages = state['messages']\n",
        "    print(f\"this is my message: {messages}\")\n",
        "\n",
        "    if len(messages)>1:\n",
        "        response=llm.invoke(messages[-1].content)\n",
        "        return {\"messages\": [response]}\n",
        "    else:\n",
        "        llm_with_tool = llm.bind_tools(tools)\n",
        "        response = llm_with_tool.invoke(messages)\n",
        "        #response=handle_query(messages)\n",
        "        return {\"messages\": [response]}"
      ],
      "metadata": {
        "id": "cCTrccdGOAh_"
      },
      "execution_count": null,
      "outputs": []
    },
    {
      "cell_type": "code",
      "source": [
        "class grade(BaseModel):\n",
        "    binary_score:str=Field(description=\"Relevance score 'yes' or 'no'\")"
      ],
      "metadata": {
        "id": "9K4hnaQITiXm"
      },
      "execution_count": null,
      "outputs": []
    },
    {
      "cell_type": "code",
      "source": [
        "def grade_documents(state:AgentState)->Literal[\"Output_Generator\", \"Query_Rewriter\"]:\n",
        "    llm_with_structure_op=llm.with_structured_output(grade)\n",
        "\n",
        "    prompt=PromptTemplate(\n",
        "        template=\"\"\"You are a grader deciding if a document is relevant to a user’s question.\n",
        "                    Here is the document: {context}\n",
        "                    Here is the user’s question: {question}\n",
        "                    If the document talks about or contains information related to the user’s question, mark it as relevant.\n",
        "                    Give a 'yes' or 'no' answer to show if the document is relevant to the question.\"\"\",\n",
        "                    input_variables=[\"context\", \"question\"]\n",
        "                    )\n",
        "    chain = prompt | llm_with_structure_op\n",
        "\n",
        "    messages = state[\"messages\"]\n",
        "    print(f\"message from the grader: {messages}\")\n",
        "    last_message = messages[-1]\n",
        "    question = messages[0].content\n",
        "    docs = last_message.content\n",
        "    scored_result = chain.invoke({\"question\": question, \"context\": docs})\n",
        "    score = scored_result.binary_score\n",
        "\n",
        "    if score == \"yes\":\n",
        "        print(\"---DECISION: DOCS RELEVANT---\")\n",
        "        return \"generator\" #this should be a node name\n",
        "    else:\n",
        "        print(\"---DECISION: DOCS NOT RELEVANT---\")\n",
        "        return \"rewriter\" #this should be a node name"
      ],
      "metadata": {
        "id": "fpTz4iugTyZS"
      },
      "execution_count": null,
      "outputs": []
    },
    {
      "cell_type": "code",
      "source": [
        "def generate(state:AgentState):\n",
        "    print(\"---GENERATE---\")\n",
        "    messages = state[\"messages\"]\n",
        "\n",
        "    print(f\"here is message from generate: {messages}\")\n",
        "\n",
        "    question = messages[0].content\n",
        "    last_message = messages[-1]\n",
        "    docs = last_message.content\n",
        "\n",
        "    prompt = hub.pull(\"rlm/rag-prompt\")\n",
        "\n",
        "    rag_chain = prompt | llm\n",
        "\n",
        "    response = rag_chain.invoke({\"context\": docs, \"question\": question})\n",
        "    print(f\"this is my response:{response}\")\n",
        "\n",
        "    return {\"messages\": [response]}"
      ],
      "metadata": {
        "id": "x3jQJ2sMUiYe"
      },
      "execution_count": null,
      "outputs": []
    },
    {
      "cell_type": "code",
      "source": [
        "from langchain_core.messages import  HumanMessage\n",
        "def rewrite(state:AgentState):\n",
        "    print(\"---TRANSFORM QUERY---\")\n",
        "    messages = state[\"messages\"]\n",
        "    question = messages[0].content\n",
        "\n",
        "    print(f\"here is message from rewrite: {messages}\")\n",
        "\n",
        "    message = [HumanMessage(content=f\"\"\"Look at the input and try to reason about the underlying semantic intent or meaning.\n",
        "                    Here is the initial question: {question}\n",
        "                    Formulate an improved question: \"\"\")\n",
        "       ]\n",
        "    response = llm.invoke(message)\n",
        "    return {\"messages\": [response]}"
      ],
      "metadata": {
        "id": "jqasdsaHUr_J"
      },
      "execution_count": null,
      "outputs": []
    },
    {
      "cell_type": "code",
      "source": [
        "workflow=StateGraph(AgentState)\n",
        "workflow.add_node(\"My_AI_Assistant\",ai_assistant)\n",
        "retrieve = ToolNode([retriever_tool])\n",
        "workflow.add_node(\"Vector_Retriever\", retrieve)\n",
        "workflow.add_node(\"Query_Rewriter\", rewrite)\n",
        "workflow.add_node(\"Output_Generator\", generate)"
      ],
      "metadata": {
        "colab": {
          "base_uri": "https://localhost:8080/"
        },
        "id": "q2E87qMVUu6d",
        "outputId": "98599e9a-17cf-4340-b00e-c614fc585d87"
      },
      "execution_count": null,
      "outputs": [
        {
          "output_type": "execute_result",
          "data": {
            "text/plain": [
              "<langgraph.graph.state.StateGraph at 0x79fb1b174050>"
            ]
          },
          "metadata": {},
          "execution_count": 34
        }
      ]
    },
    {
      "cell_type": "code",
      "source": [
        "workflow.add_edge(START,\"My_AI_Assistant\")"
      ],
      "metadata": {
        "colab": {
          "base_uri": "https://localhost:8080/"
        },
        "id": "04sH4JVqU_2-",
        "outputId": "95c9944b-145c-4d82-9e4e-1594a2bbc787"
      },
      "execution_count": null,
      "outputs": [
        {
          "output_type": "execute_result",
          "data": {
            "text/plain": [
              "<langgraph.graph.state.StateGraph at 0x79fb1b174050>"
            ]
          },
          "metadata": {},
          "execution_count": 35
        }
      ]
    },
    {
      "cell_type": "code",
      "source": [
        "workflow.add_conditional_edges(\"My_AI_Assistant\",\n",
        "                               tools_condition,\n",
        "                               {\"tools\": \"Vector_Retriever\",\n",
        "                                END: END,})"
      ],
      "metadata": {
        "colab": {
          "base_uri": "https://localhost:8080/"
        },
        "id": "x9yFPwO4VCpF",
        "outputId": "fb1dd9af-cf16-4936-90ba-9dc7ba5532e6"
      },
      "execution_count": null,
      "outputs": [
        {
          "output_type": "execute_result",
          "data": {
            "text/plain": [
              "<langgraph.graph.state.StateGraph at 0x79fb1b174050>"
            ]
          },
          "metadata": {},
          "execution_count": 36
        }
      ]
    },
    {
      "cell_type": "code",
      "source": [
        "workflow.add_conditional_edges(\"Vector_Retriever\",\n",
        "                            grade_documents,\n",
        "                            {\"generator\": \"Output_Generator\",\n",
        "                            \"rewriter\": \"Query_Rewriter\"\n",
        "                            })"
      ],
      "metadata": {
        "colab": {
          "base_uri": "https://localhost:8080/"
        },
        "id": "7Vp7G6qkVDof",
        "outputId": "0e79ab74-b739-401c-8fbd-2f9ce19e9f0d"
      },
      "execution_count": null,
      "outputs": [
        {
          "output_type": "execute_result",
          "data": {
            "text/plain": [
              "<langgraph.graph.state.StateGraph at 0x79fb1b174050>"
            ]
          },
          "metadata": {},
          "execution_count": 37
        }
      ]
    },
    {
      "cell_type": "code",
      "source": [
        "workflow.add_edge(\"Output_Generator\", END)"
      ],
      "metadata": {
        "colab": {
          "base_uri": "https://localhost:8080/"
        },
        "id": "LETzn6WaXWUl",
        "outputId": "f502ff40-433d-4251-b286-13f794a70bbb"
      },
      "execution_count": null,
      "outputs": [
        {
          "output_type": "execute_result",
          "data": {
            "text/plain": [
              "<langgraph.graph.state.StateGraph at 0x79fb1b174050>"
            ]
          },
          "metadata": {},
          "execution_count": 38
        }
      ]
    },
    {
      "cell_type": "code",
      "source": [
        "workflow.add_edge(\"Query_Rewriter\", \"My_AI_Assistant\")"
      ],
      "metadata": {
        "colab": {
          "base_uri": "https://localhost:8080/"
        },
        "id": "s6imGGkYXeUf",
        "outputId": "c31865d6-36d3-4472-a60d-4a3b888a0d59"
      },
      "execution_count": null,
      "outputs": [
        {
          "output_type": "execute_result",
          "data": {
            "text/plain": [
              "<langgraph.graph.state.StateGraph at 0x79fb1b174050>"
            ]
          },
          "metadata": {},
          "execution_count": 39
        }
      ]
    },
    {
      "cell_type": "code",
      "source": [
        "app=workflow.compile()"
      ],
      "metadata": {
        "id": "5FiperBOXg3r"
      },
      "execution_count": null,
      "outputs": []
    },
    {
      "cell_type": "code",
      "source": [
        "from IPython.display import Image, display\n",
        "\n",
        "try:\n",
        "    display(Image(app.get_graph(xray=True).draw_mermaid_png()))\n",
        "except Exception:\n",
        "    # This requires some extra dependencies and is optional\n",
        "    pass"
      ],
      "metadata": {
        "colab": {
          "base_uri": "https://localhost:8080/",
          "height": 497
        },
        "id": "7fS7qWbiXi4c",
        "outputId": "f87bf380-25f1-47c9-a88b-8f2e390b10a3"
      },
      "execution_count": null,
      "outputs": [
        {
          "output_type": "display_data",
          "data": {
            "image/png": "[encoded data removed]",
            "text/plain": [
              "<IPython.core.display.Image object>"
            ]
          },
          "metadata": {}
        }
      ]
    },
    {
      "cell_type": "code",
      "source": [
        "app.invoke({\"messages\":[\"What is a Autonomous Agent?\"]})"
      ],
      "metadata": {
        "colab": {
          "base_uri": "https://localhost:8080/"
        },
        "id": "DZg9CK_LXlgv",
        "outputId": "8edab94f-4105-4cf4-e507-3c30eabbbb37"
      },
      "execution_count": null,
      "outputs": [
        {
          "output_type": "stream",
          "name": "stdout",
          "text": [
            "---CALL AGENT---\n",
            "this is my message: [HumanMessage(content='What is a Autonomous Agent?', additional_kwargs={}, response_metadata={}, id='40474664-85a4-4bc3-b689-1786491a144c')]\n"
          ]
        },
        {
          "output_type": "execute_result",
          "data": {
            "text/plain": [
              "{'messages': [HumanMessage(content='What is a Autonomous Agent?', additional_kwargs={}, response_metadata={}, id='40474664-85a4-4bc3-b689-1786491a144c'),\n",
              "  AIMessage(content='An Autonomous Agent is a software entity that can independently make decisions and take actions to achieve its goals. It can perceive its environment through sensors, process information, and act upon the environment through effectors. Autonomous agents can operate in dynamic and complex environments, and can adapt to changes in the environment to fulfill their objectives. They are often used in applications such as robotics, artificial intelligence, and multi-agent systems.', additional_kwargs={}, response_metadata={'token_usage': {'completion_tokens': 89, 'prompt_tokens': 1270, 'total_tokens': 1359, 'completion_time': 0.138440215, 'prompt_time': 0.114744912, 'queue_time': 0.067665103, 'total_time': 0.253185127}, 'model_name': 'mixtral-8x7b-32768', 'system_fingerprint': 'fp_c5f20b5bb1', 'finish_reason': 'stop', 'logprobs': None}, id='run-0235fb25-c7fe-4803-84a7-930593506162-0', usage_metadata={'input_tokens': 1270, 'output_tokens': 89, 'total_tokens': 1359})]}"
            ]
          },
          "metadata": {},
          "execution_count": 42
        }
      ]
    },
    {
      "cell_type": "code",
      "source": [
        "app.invoke({\"messages\":[\"What is a prompt engineering?\"]})"
      ],
      "metadata": {
        "colab": {
          "base_uri": "https://localhost:8080/"
        },
        "id": "Y5jyOXo4Xud1",
        "outputId": "3cc2715e-fea6-4c00-858a-3fd90829c77d"
      },
      "execution_count": null,
      "outputs": [
        {
          "output_type": "stream",
          "name": "stdout",
          "text": [
            "---CALL AGENT---\n",
            "this is my message: [HumanMessage(content='What is a prompt engineering?', additional_kwargs={}, response_metadata={}, id='e2dcc5b1-99a5-41d5-982a-58e3579c0123')]\n"
          ]
        },
        {
          "output_type": "execute_result",
          "data": {
            "text/plain": [
              "{'messages': [HumanMessage(content='What is a prompt engineering?', additional_kwargs={}, response_metadata={}, id='e2dcc5b1-99a5-41d5-982a-58e3579c0123'),\n",
              "  AIMessage(content=\"Prompt engineering is the process of designing and optimizing the input given to a language model, such as a large language model (LLM), to generate desired outputs. It involves carefully crafting the prompt to guide the model in producing specific and useful responses. This can include providing context, examples, or instructions to help the model understand the task at hand. Prompt engineering is an important skill for effectively using language models, as the quality of the prompt can significantly impact the quality of the model's output.\", additional_kwargs={}, response_metadata={'token_usage': {'completion_tokens': 104, 'prompt_tokens': 1268, 'total_tokens': 1372, 'completion_time': 0.160009316, 'prompt_time': 0.117495438, 'queue_time': 0.020529384999999997, 'total_time': 0.277504754}, 'model_name': 'mixtral-8x7b-32768', 'system_fingerprint': 'fp_c5f20b5bb1', 'finish_reason': 'stop', 'logprobs': None}, id='run-a3233331-7db3-4b50-97c5-6892b7b077bc-0', usage_metadata={'input_tokens': 1268, 'output_tokens': 104, 'total_tokens': 1372})]}"
            ]
          },
          "metadata": {},
          "execution_count": 43
        }
      ]
    },
    {
      "cell_type": "code",
      "source": [],
      "metadata": {
        "id": "BmQ0eA_XXyFm"
      },
      "execution_count": null,
      "outputs": []
    }
  ]
}